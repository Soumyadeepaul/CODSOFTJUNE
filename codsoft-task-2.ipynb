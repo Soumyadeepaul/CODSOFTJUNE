{
 "cells": [
  {
   "cell_type": "markdown",
   "id": "2a390d33",
   "metadata": {},
   "source": [
    "# CODSOFT Python Programming"
   ]
  },
  {
   "cell_type": "markdown",
   "id": "1fec6134",
   "metadata": {},
   "source": [
    "# Task 2"
   ]
  },
  {
   "cell_type": "code",
   "execution_count": 37,
   "id": "37bc3084",
   "metadata": {},
   "outputs": [],
   "source": [
    "#importing tkinter library\n",
    "import tkinter as tk\n",
    "\n",
    "#functionality of digit buttons\n",
    "def button_click(number):\n",
    "    current = entry.get()\n",
    "    entry.delete(0, tk.END)\n",
    "    entry.insert(tk.END, current + str(number))\n",
    "    \n",
    "#functionality of clear button\n",
    "def button_clear():\n",
    "    entry.delete(0, tk.END)\n",
    "\n",
    "#functionality of equal button\n",
    "def button_equal():\n",
    "    expression = entry.get()\n",
    "    try:\n",
    "        result = eval(expression)\n",
    "        entry.delete(0, tk.END)\n",
    "        entry.insert(tk.END, result)\n",
    "    except Exception:\n",
    "        entry.delete(0, tk.END)\n",
    "        entry.insert(tk.END, \"Error\")\n",
    "\n",
    "#functionality of back button\n",
    "def back():\n",
    "    expression=entry.get()\n",
    "    if len(expression)>0:\n",
    "        entry.delete(0, tk.END)\n",
    "        entry.insert(tk.END, expression[:len(expression)-1])\n",
    "        \n",
    "if __name__=='__main__':\n",
    "    # Creating the main window\n",
    "    window = tk.Tk()\n",
    "    #Tab Title Simple Calculator\n",
    "    window.title(\"Simple Calculator\")\n",
    "    window.geometry(\"380x200\")\n",
    "    window.configure(bg='black')\n",
    "    # Creating the entry field\n",
    "    entry = tk.Entry(window, width=40,font=('Arial',12))\n",
    "    #locating the field according to grid\n",
    "    entry.grid(row=0, column=0, columnspan=4,pady=2,padx=5)\n",
    "\n",
    "    # Defining the buttons\n",
    "    buttons = [\n",
    "        (\"7\", 2, 0), (\"8\", 2, 1), (\"9\", 2, 2), (\"/\", 1, 3),\n",
    "        (\"4\", 3, 0), (\"5\", 3, 1), (\"6\", 3, 2), (\"*\", 2, 3),\n",
    "        (\"1\", 4, 0), (\"2\", 4, 1), (\"3\", 4, 2), (\"-\", 3, 3),\n",
    "                     (\"0\", 5, 1), (\".\", 5, 2), (\"+\", 4, 3)\n",
    "    ]\n",
    "\n",
    "    # Create the buttons and attach their click events\n",
    "    for button_text, row, col in buttons:\n",
    "        button = tk.Button(window, text=button_text, width=6, command=lambda text=button_text: button_click(text))\n",
    "        button.grid(row=row, column=col,pady=2)\n",
    "\n",
    "    #delete button\n",
    "    delete_button = tk.Button(window, text=\"C\", width=6, command=button_clear,bg='red')\n",
    "    delete_button.grid(row=1, column=0,pady=2)\n",
    "\n",
    "    # result button\n",
    "    result_button = tk.Button(window, text=\"=\", width=6, command=button_equal,bg='white')\n",
    "    result_button.grid(row=5, column=3,pady=2)\n",
    "    \n",
    "    #Distroy button\n",
    "    distroy_button = tk.Button(window, text=\"Exit\", width=6, command=window.destroy,bg='white')\n",
    "    distroy_button.grid(row=5, column=0,pady=2)\n",
    "\n",
    "    \n",
    "    #backspace button\n",
    "    backs_button=tk.Button(window, text=\"back\", width=6, command=back,bg='white')\n",
    "    backs_button.grid(row=1, column=2,pady=2)\n",
    "    # to start the main loop\n",
    "    window.mainloop()\n"
   ]
  },
  {
   "cell_type": "code",
   "execution_count": null,
   "id": "99d4fd7e",
   "metadata": {},
   "outputs": [],
   "source": []
  },
  {
   "cell_type": "code",
   "execution_count": null,
   "id": "5ab9efad",
   "metadata": {},
   "outputs": [],
   "source": []
  }
 ],
 "metadata": {
  "kernelspec": {
   "display_name": "Python 3",
   "language": "python",
   "name": "python3"
  },
  "language_info": {
   "codemirror_mode": {
    "name": "ipython",
    "version": 3
   },
   "file_extension": ".py",
   "mimetype": "text/x-python",
   "name": "python",
   "nbconvert_exporter": "python",
   "pygments_lexer": "ipython3",
   "version": "3.8.8"
  }
 },
 "nbformat": 4,
 "nbformat_minor": 5
}
