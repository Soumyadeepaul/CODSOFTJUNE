{
 "cells": [
  {
   "cell_type": "markdown",
   "id": "246759c6",
   "metadata": {},
   "source": [
    "# CODSOFT Python Programming"
   ]
  },
  {
   "cell_type": "markdown",
   "id": "4c5e50be",
   "metadata": {},
   "source": [
    "# Task 3"
   ]
  },
  {
   "cell_type": "code",
   "execution_count": 1,
   "id": "fabcd049",
   "metadata": {},
   "outputs": [],
   "source": [
    "#inporting tkinter, random, string libraries\n",
    "import tkinter as tk\n",
    "import random\n",
    "import string\n",
    "#functionality of clear button\n",
    "def clear():\n",
    "    entry.delete(0, tk.END)\n",
    "    try:\n",
    "        e.after(1, e.destroy())\n",
    "        p.after(1, p.destroy())\n",
    "    except:\n",
    "        pass\n",
    "#functionality if generate button\n",
    "def generate():\n",
    "    global e,p,invalid\n",
    "    #getting the length \n",
    "    length=entry.get()\n",
    "    if str(length)=='' or length.isdigit()==False:\n",
    "        #for no length input\n",
    "        invalid=tk.Label(window,text=\"Please enter value.\")\n",
    "        invalid.grid(row=1,column=1)\n",
    "    else:\n",
    "        try:\n",
    "            invalid.after(1, invalid.destroy())\n",
    "        except:\n",
    "            pass\n",
    "        characters = string.ascii_letters + string.digits + string.punctuation\n",
    "        password = ''.join(random.choice(characters) for _ in range(int(length)))\n",
    "        e=tk.Label(window,text=\"Your password is: \")\n",
    "        e.grid(row=1,column=0)\n",
    "        p=tk.Label(window,text=password,fg='green')\n",
    "        p.grid(row=1,column=1)\n",
    "           \n",
    "if __name__=='__main__':\n",
    "    # Create the main window\n",
    "    window = tk.Tk()\n",
    "    window.geometry(\"350x200\")\n",
    "    window.title(\"Password Generator\")\n",
    "    # the entry field\n",
    "    tk.Label(window,text=\"Enter password length: \",fg='red').grid(row=0,column=0,padx=3)\n",
    "    \n",
    "    entry = tk.Entry(window, width=20,font=('Arial',12))\n",
    "    entry.grid(row=0, column=1, columnspan=4,padx=2,pady=5)\n",
    "    \n",
    "    #Generate Button\n",
    "    tk.Button(window, text=\"Generate\", width=7,command=generate,bg='white', activebackground='green').grid(row=2,column=1)\n",
    "    \n",
    "    #Clear button\n",
    "    clear_button = tk.Button(window, text=\"Clear\", width=5,command=clear,bg='white', activebackground='red')\n",
    "    clear_button.grid(row=2, column=2,padx=4,pady=4)\n",
    "    \n",
    "    #Distroy button\n",
    "    distroy_button = tk.Button(window, text=\"Exit\", width=5, command=window.destroy,bg='red')\n",
    "    distroy_button.grid(row=3, column=2,pady=4)\n",
    "    # to start the main loop\n",
    "    window.mainloop()"
   ]
  },
  {
   "cell_type": "code",
   "execution_count": null,
   "id": "febde83f",
   "metadata": {},
   "outputs": [],
   "source": []
  }
 ],
 "metadata": {
  "kernelspec": {
   "display_name": "Python 3",
   "language": "python",
   "name": "python3"
  },
  "language_info": {
   "codemirror_mode": {
    "name": "ipython",
    "version": 3
   },
   "file_extension": ".py",
   "mimetype": "text/x-python",
   "name": "python",
   "nbconvert_exporter": "python",
   "pygments_lexer": "ipython3",
   "version": "3.8.8"
  }
 },
 "nbformat": 4,
 "nbformat_minor": 5
}
