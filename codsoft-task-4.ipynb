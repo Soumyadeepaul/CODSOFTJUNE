{
 "cells": [
  {
   "cell_type": "markdown",
   "id": "2c4c84ee",
   "metadata": {},
   "source": [
    "# CODSOFT Python Programming"
   ]
  },
  {
   "cell_type": "markdown",
   "id": "08c1553c",
   "metadata": {},
   "source": [
    "# Task 4"
   ]
  },
  {
   "cell_type": "code",
   "execution_count": 1,
   "id": "89560f00",
   "metadata": {},
   "outputs": [],
   "source": [
    "#importing tkinter and requests libraries\n",
    "import tkinter as tk\n",
    "import requests\n",
    "\n",
    "#fetching data from openweathermap api\n",
    "def get_weather():\n",
    "    #get city name\n",
    "    city = city_entry.get()\n",
    "    #api\n",
    "    api_key = \"986cd588c92c6a756866e2c1097e4d6b\"\n",
    "    url = f'http://api.openweathermap.org/data/2.5/weather?q={city}&appid={api_key}'\n",
    "    #requesting\n",
    "    response = requests.get(url)\n",
    "    #in json format\n",
    "    weather_data = response.json()\n",
    "    #fetching valuable information\n",
    "    if weather_data['cod'] != '404':\n",
    "        temperature = round(weather_data['main']['temp']-273,2)\n",
    "        feels_like=round(weather_data['main']['feels_like']-273,2)\n",
    "        maximum_temp=round(weather_data['main']['temp_max']-273,2)\n",
    "        minimum_temp=round(weather_data['main']['temp_min']-273,2)\n",
    "        description = weather_data['weather'][0]['description']\n",
    "        humidity = weather_data['main']['humidity']\n",
    "\n",
    "        result_label.config(text=f\"Temperature: {temperature}°C\\nFeels Like: {feels_like}°C\\nMaximum Temp: {maximum_temp}°C Minimum Temp: {minimum_temp}°C\\nDescription: {description}\\nHumidity: {humidity}%\",fg='red',bg='white')\n",
    "    else:\n",
    "        result_label.config(text=\"City not found\",fg='red',bg='white')\n",
    "\n",
    "# Create the main window\n",
    "window = tk.Tk()\n",
    "window.title(\"Weather Forecast\")\n",
    "window.geometry(\"350x300\")\n",
    "window.configure(bg='#ffff8c')\n",
    "# Create the input label and entry field\n",
    "city_label = tk.Label(window, text=\"Enter city:\",bg='white')\n",
    "city_label.pack(pady=5)\n",
    "\n",
    "city_entry = tk.Entry(window,width=20,font=('Arial',12))\n",
    "city_entry.pack()\n",
    "\n",
    "# Create the submit button\n",
    "submit_button = tk.Button(window, text=\"Get Weather\",bg=\"white\", command=get_weather)\n",
    "submit_button.pack(pady=5)\n",
    "\n",
    "# Create the label to display the weather result\n",
    "result_label = tk.Label(window, text=\"\")\n",
    "result_label.pack(pady=5)\n",
    "\n",
    "distroy_button = tk.Button(window, text=\"Exit\", width=5, command=window.destroy,bg='red',fg='black')\n",
    "distroy_button.pack(pady=5)\n",
    "# Start the main loop\n",
    "window.mainloop()\n"
   ]
  },
  {
   "cell_type": "code",
   "execution_count": null,
   "id": "15b03565",
   "metadata": {},
   "outputs": [],
   "source": []
  }
 ],
 "metadata": {
  "kernelspec": {
   "display_name": "Python 3",
   "language": "python",
   "name": "python3"
  },
  "language_info": {
   "codemirror_mode": {
    "name": "ipython",
    "version": 3
   },
   "file_extension": ".py",
   "mimetype": "text/x-python",
   "name": "python",
   "nbconvert_exporter": "python",
   "pygments_lexer": "ipython3",
   "version": "3.8.8"
  }
 },
 "nbformat": 4,
 "nbformat_minor": 5
}
